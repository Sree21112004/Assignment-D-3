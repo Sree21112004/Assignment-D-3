{
 "cells": [
  {
   "cell_type": "markdown",
   "metadata": {},
   "source": [
    "# Day-3 Assignment"
   ]
  },
  {
   "cell_type": "markdown",
   "metadata": {},
   "source": [
    "## You all are pilots, you have to land a plane, the altitude required for landing the plane is 1000ft, if it is less than that tell pilot to \"land the plane\", or it is more than 1000ft but less than 5000ft ask the pilot to \"come down to 1000ft\", else if it is more than 5000ft ask the pilot to \"go around and try later\" ?"
   ]
  },
  {
   "cell_type": "code",
   "execution_count": 4,
   "metadata": {},
   "outputs": [
    {
     "name": "stdout",
     "output_type": "stream",
     "text": [
      "Come down to 1000ft\n"
     ]
    }
   ],
   "source": [
    "# Plane is at the distance of above 1000ft and below 5000ft\n",
    "\n",
    "correct = 1000\n",
    "plane = 5000\n",
    "\n",
    "if correct < 1000:\n",
    "    print(\"Land the plane\")\n",
    "elif plane >= 1000:\n",
    "    print(\"Come down to 1000ft\")\n",
    "else: \n",
    "    print(\"Go around and try later\")"
   ]
  },
  {
   "cell_type": "code",
   "execution_count": 2,
   "metadata": {},
   "outputs": [
    {
     "name": "stdout",
     "output_type": "stream",
     "text": [
      "Land the plane\n"
     ]
    }
   ],
   "source": [
    "# Plane is at the distance of less than 1000ft\n",
    "\n",
    "plane = 999 \n",
    "comedown = 5000\n",
    "\n",
    "if plane <= 1000:\n",
    "    print(\"Land the plane\")\n",
    "elif comedown < 5000:\n",
    "    print(\"Come down to 1000\")\n",
    "else:\n",
    "    print(\"Go around\")"
   ]
  },
  {
   "cell_type": "code",
   "execution_count": 3,
   "metadata": {},
   "outputs": [
    {
     "name": "stdout",
     "output_type": "stream",
     "text": [
      "Go around and try later\n"
     ]
    }
   ],
   "source": [
    "# Plane is at the ditance of above 5000ft\n",
    "\n",
    "plane = 6000\n",
    "correct = 1000\n",
    "\n",
    "if plane >= 5000:\n",
    "    print(\"Go around and try later\")\n",
    "elif correct < 1000:\n",
    "    print(\"Land the plane\")\n",
    "else:\n",
    "    print(\"Come down\")"
   ]
  },
  {
   "cell_type": "markdown",
   "metadata": {},
   "source": [
    "## Question 2"
   ]
  },
  {
   "cell_type": "markdown",
   "metadata": {},
   "source": [
    "### Using for loop print all the prime numbers between 1-200 using For Loop and Range functions."
   ]
  },
  {
   "cell_type": "code",
   "execution_count": 20,
   "metadata": {},
   "outputs": [
    {
     "name": "stdout",
     "output_type": "stream",
     "text": [
      "Prime numbers between 1 and 200 are:\n",
      "2\n",
      "3\n",
      "5\n",
      "7\n",
      "11\n",
      "13\n",
      "17\n",
      "19\n",
      "23\n",
      "29\n",
      "31\n",
      "37\n",
      "41\n",
      "43\n",
      "47\n",
      "53\n",
      "59\n",
      "61\n",
      "67\n",
      "71\n",
      "73\n",
      "79\n",
      "83\n",
      "89\n",
      "97\n",
      "101\n",
      "103\n",
      "107\n",
      "109\n",
      "113\n",
      "127\n",
      "131\n",
      "137\n",
      "139\n",
      "149\n",
      "151\n",
      "157\n",
      "163\n",
      "167\n",
      "173\n",
      "179\n",
      "181\n",
      "191\n",
      "193\n",
      "197\n",
      "199\n"
     ]
    }
   ],
   "source": [
    "lower = 1\n",
    "upper = 200\n",
    "\n",
    "print(\"Prime numbers between\", lower, \"and\", upper, \"are:\")\n",
    "\n",
    "for num in range(lower, upper + 1):\n",
    "   # all prime numbers are greater than 1\n",
    "   if num > 1:\n",
    "       for i in range(2, num):\n",
    "           if (num % i) == 0:\n",
    "               break\n",
    "       else:\n",
    "           print(num)"
   ]
  },
  {
   "cell_type": "markdown",
   "metadata": {},
   "source": [
    "# Thank You"
   ]
  }
 ],
 "metadata": {
  "kernelspec": {
   "display_name": "Python 3",
   "language": "python",
   "name": "python3"
  },
  "language_info": {
   "codemirror_mode": {
    "name": "ipython",
    "version": 3
   },
   "file_extension": ".py",
   "mimetype": "text/x-python",
   "name": "python",
   "nbconvert_exporter": "python",
   "pygments_lexer": "ipython3",
   "version": "3.8.3"
  }
 },
 "nbformat": 4,
 "nbformat_minor": 4
}
